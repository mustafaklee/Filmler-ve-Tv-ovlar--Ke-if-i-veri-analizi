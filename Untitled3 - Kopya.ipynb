{
 "cells": [
  {
   "cell_type": "code",
   "execution_count": null,
   "id": "18f21692-a6de-4e20-aa2b-6258f449d8af",
   "metadata": {
    "scrolled": true
   },
   "outputs": [],
   "source": [
    "pip install seaborn"
   ]
  },
  {
   "cell_type": "code",
   "execution_count": null,
   "id": "98b744eb-82a0-44ae-9fcc-d598a31e9605",
   "metadata": {},
   "outputs": [],
   "source": [
    "pip install pandas"
   ]
  },
  {
   "cell_type": "code",
   "execution_count": null,
   "id": "6b6627d7-581c-4a0f-8170-dde1ea58ba4c",
   "metadata": {},
   "outputs": [],
   "source": [
    "import pandas as pd\n",
    "import seaborn as sns\n",
    "import matplotlib.pyplot as plt"
   ]
  },
  {
   "cell_type": "code",
   "execution_count": null,
   "id": "a7446e6d-9df6-4826-8570-8abddb365c61",
   "metadata": {
    "scrolled": true
   },
   "outputs": [],
   "source": [
    "df=pd.read_csv(\"TMDB_tv_dataset_v3.csv\")\n",
    "df2=df #dil sayımında kullanilacak"
   ]
  },
  {
   "cell_type": "code",
   "execution_count": null,
   "id": "2f01cf8f-4a7b-4911-9a6c-37f8030eaecc",
   "metadata": {},
   "outputs": [],
   "source": [
    "print(df.isnull().values.any())  #eksik deger var mı?"
   ]
  },
  {
   "cell_type": "code",
   "execution_count": null,
   "id": "7ecf8f08-f99c-438e-8c17-f0eb2e78c5e2",
   "metadata": {
    "scrolled": true,
    "tags": []
   },
   "outputs": [],
   "source": [
    "print(df.isnull().sum()) #eksik değerler kaç tane var?"
   ]
  },
  {
   "cell_type": "code",
   "execution_count": null,
   "id": "62b695f6-16e2-4543-a40e-e90a1af9f645",
   "metadata": {},
   "outputs": [],
   "source": [
    "df.dropna(inplace=True) #eksik değer olan tüm satırları sil(kalıcı olarak)"
   ]
  },
  {
   "cell_type": "code",
   "execution_count": null,
   "id": "bac6c480-0ec2-4fa6-b60f-8f53813608ac",
   "metadata": {
    "tags": []
   },
   "outputs": [],
   "source": [
    "df=df[(df.number_of_seasons>0) & (df.number_of_episodes>0) & (df.episode_run_time>4) & (df.vote_count>500)]   #aykırı değerleri sildik"
   ]
  },
  {
   "cell_type": "code",
   "execution_count": null,
   "id": "7f3f21a3-1a25-44c6-913b-37eb5f013a7f",
   "metadata": {},
   "outputs": [],
   "source": [
    "en_populer=df.sort_values(\"vote_average\",ascending=False).head(20)   #false=azalan sıralama;en yüksek oylu filmleri belirledik"
   ]
  },
  {
   "cell_type": "code",
   "execution_count": null,
   "id": "86cf43b1-4056-44e0-a08f-a733e205c70c",
   "metadata": {},
   "outputs": [],
   "source": [
    "plt.figure(figsize=(8,5)) #büyüklük\n",
    "sns.barplot(x=en_populer.vote_average, y=en_populer.name) #x ve y eksenine hangi veriler gelecek\n",
    "plt.xticks(rotation= 0)   #yazının derecesi 45 çapraz 90 dik\n",
    "plt.xlabel('Puan')\n",
    "plt.ylabel('Sovlar')\n",
    "plt.title('En iyi Sovlar')\n",
    "plt.show()"
   ]
  },
  {
   "cell_type": "code",
   "execution_count": null,
   "id": "a37d5d53-570a-4429-bcfd-1ce49e0ac759",
   "metadata": {},
   "outputs": [],
   "source": [
    "sns.boxplot(x=en_populer.number_of_seasons); #En iyi 20 şovun sezon sayilari\n",
    "plt.title('En iyi 20 sovun kaç sezon oldugu');"
   ]
  },
  {
   "cell_type": "code",
   "execution_count": null,
   "id": "d19703f0-9160-41b7-8bc9-070754dcc6d6",
   "metadata": {},
   "outputs": [],
   "source": [
    "original_lang = df2.original_language.value_counts().head(6) #df2 den orijinal dil verilerini aldık"
   ]
  },
  {
   "cell_type": "code",
   "execution_count": null,
   "id": "66a5f384-572a-42cd-ae7f-c4164df0e646",
   "metadata": {},
   "outputs": [],
   "source": [
    "original_lang={'language':original_lang.index , 'count':original_lang.values}"
   ]
  },
  {
   "cell_type": "code",
   "execution_count": null,
   "id": "ad7ae342-a2b6-4a68-8329-60307bfa6730",
   "metadata": {
    "scrolled": true
   },
   "outputs": [],
   "source": [
    "pd.DataFrame(original_lang)"
   ]
  },
  {
   "cell_type": "code",
   "execution_count": null,
   "id": "b14136fc-26f6-4599-b6c4-da24732003b0",
   "metadata": {},
   "outputs": [],
   "source": [
    "plt.figure(figsize=(10,5)) #büyüklük\n",
    "sns.barplot(x=original_lang[\"language\"], y=original_lang[\"count\"]) #x ve y eksenine hangi veriler gelecek\n",
    "plt.xticks(rotation= 90)   #yazının derecesi 45 çapraz 90 dik\n",
    "plt.xlabel('Dil')\n",
    "plt.ylabel('Sayi')\n",
    "plt.title('En çok kullanılan orijinal diller')\n",
    "plt.show()"
   ]
  },
  {
   "cell_type": "code",
   "execution_count": null,
   "id": "18c717a5-ca61-4e3b-8b96-99c62a8949a3",
   "metadata": {},
   "outputs": [],
   "source": [
    "#Ülkelere göre bölüm süreleri"
   ]
  },
  {
   "cell_type": "code",
   "execution_count": null,
   "id": "df4a6336-48d5-4902-82f7-103803a17827",
   "metadata": {},
   "outputs": [],
   "source": [
    "plt.figure(figsize=(10,5)) #büyüklük\n",
    "sns.barplot(x=df.production_countries, y=df.episode_run_time);#x ve y eksenine hangi veriler gelecek\n",
    "plt.xticks(rotation= 90)   #yazının derecesi 45 çapraz 90 dik\n",
    "plt.xlabel('Ülke')\n",
    "plt.ylabel('Ortalama Bölüm Süreleri')\n",
    "plt.title('Ülkelere göre bölüm süreleri')\n",
    "plt.show();"
   ]
  }
 ],
 "metadata": {
  "kernelspec": {
   "display_name": "Python 3 (ipykernel)",
   "language": "python",
   "name": "python3"
  },
  "language_info": {
   "codemirror_mode": {
    "name": "ipython",
    "version": 3
   },
   "file_extension": ".py",
   "mimetype": "text/x-python",
   "name": "python",
   "nbconvert_exporter": "python",
   "pygments_lexer": "ipython3",
   "version": "3.11.5"
  }
 },
 "nbformat": 4,
 "nbformat_minor": 5
}
